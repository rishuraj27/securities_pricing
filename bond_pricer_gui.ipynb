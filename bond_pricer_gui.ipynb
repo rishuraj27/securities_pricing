{
 "cells": [
  {
   "cell_type": "markdown",
   "metadata": {},
   "source": [
    "# Library import"
   ]
  },
  {
   "cell_type": "code",
   "execution_count": 1,
   "metadata": {
    "ExecuteTime": {
     "end_time": "2020-08-15T14:40:56.016053Z",
     "start_time": "2020-08-15T14:40:53.488459Z"
    }
   },
   "outputs": [],
   "source": [
    "import numpy as np\n",
    "import pandas as pd \n",
    "import quandl as qu \n",
    "import QuantLib as ql\n",
    "import datetime\n",
    "import math \n",
    "import matplotlib.pyplot as plt\n",
    "from scipy import interpolate\n",
    "from tkinter import *\n",
    "from pandastable import Table"
   ]
  },
  {
   "cell_type": "markdown",
   "metadata": {},
   "source": [
    "# Time till maturity"
   ]
  },
  {
   "cell_type": "code",
   "execution_count": 4,
   "metadata": {
    "ExecuteTime": {
     "end_time": "2020-08-15T14:42:22.874669Z",
     "start_time": "2020-08-15T14:42:22.863709Z"
    }
   },
   "outputs": [],
   "source": [
    "def time_till_maturity(valuation_date,maturity):\n",
    "    \n",
    "    valuation_date = datetime.datetime.strptime(valuation_date.get(),\"%m/%d/%Y\")\n",
    "    maturity = datetime.datetime.strptime(maturity.get(),\"%m/%d/%Y\")\n",
    "    year= maturity.year - valuation_date.year\n",
    "\n",
    "    moved_maturity = datetime.datetime(year=valuation_date.year,month=maturity.month,day=maturity.day)\n",
    "    \n",
    "    delta=(moved_maturity - valuation_date)\n",
    "    year= year+ delta.days/day_count_convention.get()\n",
    "\n",
    "    return year"
   ]
  },
  {
   "cell_type": "markdown",
   "metadata": {},
   "source": [
    "# Zero rate curve"
   ]
  },
  {
   "cell_type": "code",
   "execution_count": 10,
   "metadata": {
    "ExecuteTime": {
     "end_time": "2020-08-15T14:46:47.934037Z",
     "start_time": "2020-08-15T14:46:47.887245Z"
    }
   },
   "outputs": [],
   "source": [
    "# For zero rate curve make a free quandl account and put authentication token where \"*******\" string is present \n",
    "def zero_rate_curve(valuation_date):\n",
    "    \n",
    "    valuation_date = datetime.datetime.strptime(valuation_date.get(),\"%m/%d/%Y\")\n",
    "    tt_date = valuation_date+datetime.timedelta(days=1)\n",
    "    \n",
    "    zero_rate=qu.get(\"FED/SVENY\", authtoken=\"********\",start_date=valuation_date, end_date=tt_date)\n",
    "    zc = zero_rate.iloc[0,:]\n",
    "    zc=pd.DataFrame.from_dict({'rate':zc.values,\"index\":[int(i) for i in range(1,31)]})\n",
    "    zc = zc.set_index('index')\n",
    "    \n",
    "    overnight_rate = qu.get(\"FED/RIFSPPNA2P2D01_N_B\", authtoken=\"*********\",start_date=valuation_date, end_date=tt_date)\n",
    "    overnight_rate.rename(columns={'Value':'rate'},inplace=True)\n",
    "    overnight_rate= overnight_rate.iloc[0,:]\n",
    "    overnight_rate.name = 0\n",
    "    zc = zc.append(overnight_rate, ignore_index=False)\n",
    "    zc=zc.sort_index()\n",
    "    return zc"
   ]
  },
  {
   "cell_type": "code",
   "execution_count": 6,
   "metadata": {
    "ExecuteTime": {
     "end_time": "2020-08-15T14:42:25.060831Z",
     "start_time": "2020-08-15T14:42:25.053493Z"
    }
   },
   "outputs": [],
   "source": [
    "def zero_curve_interpolation(x,y,kind):\n",
    "    zc_interpolation = interpolate.interp1d(x,y,kind)\n",
    "    return zc_interpolation"
   ]
  },
  {
   "cell_type": "markdown",
   "metadata": {},
   "source": [
    "# Cash flow"
   ]
  },
  {
   "cell_type": "code",
   "execution_count": 7,
   "metadata": {
    "ExecuteTime": {
     "end_time": "2020-08-15T14:42:26.282365Z",
     "start_time": "2020-08-15T14:42:26.265799Z"
    }
   },
   "outputs": [],
   "source": [
    "def cash_flow(coupon_rate,face_value,coupon_frequency,year):\n",
    "    \n",
    "    coupon_rate = coupon_rate.get()\n",
    "    coupon_frequency = coupon_frequency.get()\n",
    "    first_coupon_date_fraction = year - math.floor(year)\n",
    "    if first_coupon_date_fraction ==0:\n",
    "        if coupon_frequency ==0:\n",
    "            first_coupon_date_fraction =1\n",
    "        elif coupon_frequency ==1:\n",
    "            first_coupon_date_fraction =1\n",
    "        elif coupon_frequency ==2:\n",
    "            first_coupon_date_fraction =0.5\n",
    "        elif coupon_frequency ==4:\n",
    "            first_coupon_date_fraction =0.25\n",
    "        elif coupon_frequency ==12:\n",
    "            first_coupon_date_fraction =1/12\n",
    "    \n",
    "    \n",
    "    \n",
    "    if coupon_frequency ==0:\n",
    "        time_fraction = 1\n",
    "        cash_flow_cf = [ ((coupon_rate*face_value)*coupon_frequency) for i in range(math.ceil(year))]\n",
    "        cash_flow_cf[-1]= cash_flow_cf[-1]+100\n",
    "        cash_flow_time = [ np.round(first_coupon_date_fraction + i * time_fraction,2) for i in range(math.ceil(year)) ]\n",
    "\n",
    "    else:\n",
    "        time_fraction = 1/coupon_frequency\n",
    "        cash_flow_cf = [ ((coupon_rate*face_value)/coupon_frequency) for i in range(math.ceil(year*coupon_frequency))]\n",
    "        cash_flow_cf[-1]= cash_flow_cf[-1]+100\n",
    "        cash_flow_time = [ np.round(first_coupon_date_fraction + i * time_fraction,2) for i in range(math.ceil(year*coupon_frequency)) ]\n",
    "    \n",
    "    return {\"cash_flow\":cash_flow_cf, 'cash_flow_time':cash_flow_time}"
   ]
  },
  {
   "cell_type": "markdown",
   "metadata": {},
   "source": [
    "# Bond Pricer"
   ]
  },
  {
   "cell_type": "code",
   "execution_count": 8,
   "metadata": {
    "ExecuteTime": {
     "end_time": "2020-08-15T14:42:45.732624Z",
     "start_time": "2020-08-15T14:42:45.715845Z"
    }
   },
   "outputs": [],
   "source": [
    "def bond_pricer(coupon_rate,coupon_frequency,valuation_date,maturity):\n",
    "    \n",
    "    cf_dict=cash_flow(coupon_rate,face_value,coupon_frequency, year=time_till_maturity(valuation_date,maturity))\n",
    "    zc = zero_rate_curve(valuation_date)\n",
    "    zc_interpolation = zero_curve_interpolation(zc.index,zc['rate'],kind='linear')\n",
    "    x_new = cf_dict['cash_flow_time']\n",
    "    cf_dict['zero_rate']=zc_interpolation(x_new)/100\n",
    "    df_cf = pd.DataFrame.from_dict(cf_dict)\n",
    "    df_cf['discount_factor']=1/(1+df_cf['zero_rate'])**df_cf['cash_flow_time']\n",
    "    df_cf['discounted_cash_flow']= df_cf['discount_factor']*df_cf['cash_flow']\n",
    "    price=np.sum(df_cf['discounted_cash_flow'])\n",
    "    \n",
    "    return np.round(price,5),df_cf"
   ]
  },
  {
   "cell_type": "markdown",
   "metadata": {},
   "source": [
    "# GUI"
   ]
  },
  {
   "cell_type": "code",
   "execution_count": 9,
   "metadata": {
    "ExecuteTime": {
     "end_time": "2020-08-15T14:44:21.420188Z",
     "start_time": "2020-08-15T14:42:48.358645Z"
    }
   },
   "outputs": [],
   "source": [
    "face_value =100\n",
    "window = Tk()\n",
    "window.geometry(\"1000x700\") \n",
    "window.resizable(0, 0) # this prevents from resizing the window\n",
    "window.title(\"Bond Pricer\")\n",
    "\n",
    "coupon_rate = DoubleVar()\n",
    "# creating 2 text labels and input labels\n",
    "Label(window, text = \"Coupon rate\").grid(row = 0,column=0) # this is placed in 0 0\n",
    "# 'Entry' is used to display the input-field\n",
    "Entry(window,textvariable=coupon_rate).grid(row = 0, column = 1) # this is placed in 0 1\n",
    "\n",
    "\n",
    "coupon_frequency = IntVar()\n",
    "coupon_frequency.set(2)\n",
    "Label(window, text = \"Coupon frequency\").grid(row = 1,column=0) \n",
    "OptionMenu(window,coupon_frequency,0,1,2,4,12).grid(row=1,column=1)\n",
    "\n",
    "trade_date = StringVar()\n",
    "Label(window, text = \"Trade date\").grid(row = 2,column=0)\n",
    "Entry(window,textvariable=trade_date).grid(row = 2, column = 1)\n",
    "\n",
    "\n",
    "\n",
    "valuation_date= StringVar()\n",
    "\n",
    "Label(window, text = \"Valuation date\").grid(row = 3,column=0) \n",
    "Entry(window,textvariable=valuation_date).grid(row = 3, column = 1)\n",
    "\n",
    "\n",
    "\n",
    "maturity= StringVar()\n",
    "\n",
    "Label(window, text = \"Maturity date\").grid(row = 4,column=0)\n",
    "Entry(window,textvariable=maturity).grid(row = 4, column = 1)\n",
    "\n",
    "\n",
    "day_count_convention = IntVar()\n",
    "day_count_convention.set(365)\n",
    "Label(window, text = \"Day count convention\").grid(row = 5,column=0) \n",
    "OptionMenu(window,day_count_convention,360,365).grid(row=5,column=1)\n",
    "\n",
    "\n",
    "def getPrice():\n",
    "    \n",
    "    price,df_cf = bond_pricer(coupon_rate,coupon_frequency,valuation_date,maturity)\n",
    "    Label(window,text=\"Price\",font=('helvetica', 10, 'bold')).grid(row=7,column=0)\n",
    "    Label(window, text= price,font=('helvetica', 10, 'bold')).grid(row=7,column=1)\n",
    "    \n",
    "    f = Frame()\n",
    "    f.grid(row=8,column=1)\n",
    "    pt = Table(f,dataframe=df_cf,showtoolbar=True, showstatusbar=True)\n",
    "    pt.show()\n",
    "\n",
    "my_button = Button(window, text = \"Calculate\",command= getPrice)\n",
    "my_button.grid(row=6,column =1)\n",
    "\n",
    "window.mainloop()\n",
    "\n"
   ]
  },
  {
   "cell_type": "code",
   "execution_count": null,
   "metadata": {},
   "outputs": [],
   "source": []
  }
 ],
 "metadata": {
  "kernelspec": {
   "display_name": "Python 3",
   "language": "python",
   "name": "python3"
  },
  "language_info": {
   "codemirror_mode": {
    "name": "ipython",
    "version": 3
   },
   "file_extension": ".py",
   "mimetype": "text/x-python",
   "name": "python",
   "nbconvert_exporter": "python",
   "pygments_lexer": "ipython3",
   "version": "3.7.7"
  },
  "toc": {
   "base_numbering": 1,
   "nav_menu": {},
   "number_sections": true,
   "sideBar": true,
   "skip_h1_title": false,
   "title_cell": "Table of Contents",
   "title_sidebar": "Contents",
   "toc_cell": false,
   "toc_position": {},
   "toc_section_display": true,
   "toc_window_display": false
  },
  "varInspector": {
   "cols": {
    "lenName": 16,
    "lenType": 16,
    "lenVar": 40
   },
   "kernels_config": {
    "python": {
     "delete_cmd_postfix": "",
     "delete_cmd_prefix": "del ",
     "library": "var_list.py",
     "varRefreshCmd": "print(var_dic_list())"
    },
    "r": {
     "delete_cmd_postfix": ") ",
     "delete_cmd_prefix": "rm(",
     "library": "var_list.r",
     "varRefreshCmd": "cat(var_dic_list()) "
    }
   },
   "types_to_exclude": [
    "module",
    "function",
    "builtin_function_or_method",
    "instance",
    "_Feature"
   ],
   "window_display": false
  }
 },
 "nbformat": 4,
 "nbformat_minor": 4
}
