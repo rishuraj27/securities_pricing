{
 "cells": [
  {
   "cell_type": "raw",
   "metadata": {},
   "source": [
    "Assumption:\n",
    "European option\n",
    "Non - dividend paying underlying stock"
   ]
  },
  {
   "cell_type": "code",
   "execution_count": 1,
   "metadata": {
    "ExecuteTime": {
     "end_time": "2020-08-22T23:43:23.878438Z",
     "start_time": "2020-08-22T23:43:13.736223Z"
    }
   },
   "outputs": [],
   "source": [
    "import scipy.optimize\n",
    "from scipy import stats\n",
    "import numpy as np"
   ]
  },
  {
   "cell_type": "code",
   "execution_count": 2,
   "metadata": {
    "ExecuteTime": {
     "end_time": "2020-08-22T23:43:47.109253Z",
     "start_time": "2020-08-22T23:43:39.100121Z"
    }
   },
   "outputs": [
    {
     "name": "stdout",
     "output_type": "stream",
     "text": [
      "Enter risk free rate:.1\n",
      "Enter the spot price of asset:42\n",
      "Enter the strike price of derivative:40\n",
      "Enter the time to maturity of asset:.5\n"
     ]
    }
   ],
   "source": [
    "risk_free_rate = float(input(\"Enter risk free rate:\")) # e.g 0.05\n",
    "spot_price  = float(input(\"Enter the spot price of asset:\"))\n",
    "strike_price  = float(input(\"Enter the strike price of derivative:\"))\n",
    "maturity  = float(input(\"Enter the time to maturity of asset:\")) # in years"
   ]
  },
  {
   "cell_type": "raw",
   "metadata": {},
   "source": [
    "# Enter call price or put price"
   ]
  },
  {
   "cell_type": "code",
   "execution_count": 15,
   "metadata": {
    "ExecuteTime": {
     "end_time": "2020-08-23T00:05:07.098939Z",
     "start_time": "2020-08-23T00:05:03.964738Z"
    }
   },
   "outputs": [
    {
     "name": "stdout",
     "output_type": "stream",
     "text": [
      "Enter the call price:4.76\n",
      "Implied volatility calculated from call price is 20.02 %\n"
     ]
    }
   ],
   "source": [
    "call_price = float(input(\"Enter the call price:\"))\n",
    "def call_implied_vol(implied_vol):\n",
    "    global spot_price,strike_price,risk_free_rate,maturity,call_price\n",
    "    d1 = (np.log(spot_price/strike_price) + ((risk_free_rate +\n",
    "                                         (implied_vol**2)/2))*maturity)/(implied_vol*np.sqrt(maturity))\n",
    "    d2 = d1 - (implied_vol*np.sqrt(maturity))\n",
    "    \n",
    "    norm_cum_d1 = stats.norm.cdf(d1)\n",
    "    norm_cum_d2 = stats.norm.cdf(d2)\n",
    "    return spot_price*norm_cum_d1 - strike_price * np.exp(-risk_free_rate*maturity)*norm_cum_d2 - call_price\n",
    "implied_vol = scipy.optimize.broyden1(put_implied_vol,[.05])\n",
    "print('Implied volatility calculated from call price is {} %'.format(np.round(implied_vol[0]*100,2)))"
   ]
  },
  {
   "cell_type": "code",
   "execution_count": 14,
   "metadata": {
    "ExecuteTime": {
     "end_time": "2020-08-23T00:04:43.204016Z",
     "start_time": "2020-08-23T00:04:40.137516Z"
    }
   },
   "outputs": [
    {
     "name": "stdout",
     "output_type": "stream",
     "text": [
      "Enter the put price:.81\n",
      "Implied volatility calculated from put price is 20.02 %\n"
     ]
    }
   ],
   "source": [
    "put_price = float(input(\"Enter the put price:\"))\n",
    "def put_implied_vol(implied_vol):\n",
    "    global spot_price,strike_price,risk_free_rate,maturity,call_price\n",
    "    d1 = (np.log(spot_price/strike_price) + ((risk_free_rate +\n",
    "                                         (implied_vol**2)/2))*maturity)/(implied_vol*np.sqrt(maturity))\n",
    "    d2 = d1 - (implied_vol*np.sqrt(maturity))\n",
    "    \n",
    "    norm_cum_m_d1 = stats.norm.cdf(-d1)\n",
    "    norm_cum_m_d2 = stats.norm.cdf(-d2)\n",
    "    return -1*spot_price*norm_cum_m_d1 + strike_price * np.exp(-risk_free_rate*maturity)*norm_cum_m_d2 - put_price\n",
    "implied_vol = scipy.optimize.broyden1(put_implied_vol,[.05])\n",
    "print('Implied volatility calculated from put price is {} %'.format(np.round(implied_vol[0]*100,2)))"
   ]
  },
  {
   "cell_type": "code",
   "execution_count": null,
   "metadata": {},
   "outputs": [],
   "source": []
  }
 ],
 "metadata": {
  "kernelspec": {
   "display_name": "Python 3",
   "language": "python",
   "name": "python3"
  },
  "language_info": {
   "codemirror_mode": {
    "name": "ipython",
    "version": 3
   },
   "file_extension": ".py",
   "mimetype": "text/x-python",
   "name": "python",
   "nbconvert_exporter": "python",
   "pygments_lexer": "ipython3",
   "version": "3.7.7"
  },
  "toc": {
   "base_numbering": 1,
   "nav_menu": {},
   "number_sections": true,
   "sideBar": true,
   "skip_h1_title": false,
   "title_cell": "Table of Contents",
   "title_sidebar": "Contents",
   "toc_cell": false,
   "toc_position": {},
   "toc_section_display": true,
   "toc_window_display": false
  },
  "varInspector": {
   "cols": {
    "lenName": 16,
    "lenType": 16,
    "lenVar": 40
   },
   "kernels_config": {
    "python": {
     "delete_cmd_postfix": "",
     "delete_cmd_prefix": "del ",
     "library": "var_list.py",
     "varRefreshCmd": "print(var_dic_list())"
    },
    "r": {
     "delete_cmd_postfix": ") ",
     "delete_cmd_prefix": "rm(",
     "library": "var_list.r",
     "varRefreshCmd": "cat(var_dic_list()) "
    }
   },
   "types_to_exclude": [
    "module",
    "function",
    "builtin_function_or_method",
    "instance",
    "_Feature"
   ],
   "window_display": false
  }
 },
 "nbformat": 4,
 "nbformat_minor": 4
}
